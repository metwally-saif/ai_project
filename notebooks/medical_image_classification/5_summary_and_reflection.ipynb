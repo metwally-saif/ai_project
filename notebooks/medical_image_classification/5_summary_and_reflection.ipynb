{
 "cells": [
  {
   "cell_type": "markdown",
   "metadata": {
    "vscode": {
     "languageId": "plaintext"
    }
   },
   "source": [
    "# Summary and Reflection\n",
    "\n",
    "In this notebook, we summarize the results of our medical image classification project and reflect on the key takeaways, including:\n",
    "\n",
    "1. Performance analysis of the two models.\n",
    "2. Observations on class-wise performance.\n",
    "3. Lessons learned during the project.\n",
    "4. Potential areas for improvement and next steps.\n",
    "\n",
    "---\n"
   ]
  },
  {
   "cell_type": "markdown",
   "metadata": {},
   "source": [
    "## Performance Overview\n",
    "\n",
    "The two models were evaluated on the test set, consisting of 1,160 images from two classes: **Normal** and **Pneumonic**. Below is a summary of their performance:\n",
    "\n",
    "### Model 1: Simple CNN\n",
    "- **Accuracy:** 74%\n",
    "- **Precision (Normal):** 61%\n",
    "- **Recall (Normal):** 4%\n",
    "- **F1-Score (Normal):** 7%\n",
    "- **Precision (Pneumonic):** 74%\n",
    "- **Recall (Pneumonic):** 99%\n",
    "- **F1-Score (Pneumonic):** 85%\n",
    "\n",
    "### Model 2: Deep CNN\n",
    "- **Accuracy:** 74%\n",
    "- **Precision (Normal):** 58%\n",
    "- **Recall (Normal):** 74%\n",
    "- **F1-Score (Normal):** 65%\n",
    "- **Precision (Pneumonic):** 74%\n",
    "- **Recall (Pneumonic):** 100%\n",
    "- **F1-Score (Pneumonic):** 85%\n",
    "\n",
    "---\n"
   ]
  },
  {
   "cell_type": "code",
   "execution_count": 1,
   "metadata": {
    "metadata": {}
   },
   "outputs": [
    {
     "data": {
      "image/png": "[encoded data removed]",
      "text/plain": [
       "<Figure size 800x600 with 1 Axes>"
      ]
     },
     "metadata": {},
     "output_type": "display_data"
    }
   ],
   "source": [
    "# Plot model accuracies\n",
    "import matplotlib.pyplot as plt\n",
    "\n",
    "accuracies = [74.5, 73.71]\n",
    "model_names = [\"Model 1 (Simple CNN)\", \"Model 2 (Deep CNN)\"]\n",
    "\n",
    "plt.figure(figsize=(8, 6))\n",
    "plt.bar(model_names, accuracies, color=[\"skyblue\", \"lightgreen\"])\n",
    "plt.title(\"Model Accuracy Comparison\")\n",
    "plt.ylabel(\"Accuracy (%)\")\n",
    "plt.ylim(0, 100)\n",
    "plt.show()\n"
   ]
  },
  {
   "cell_type": "markdown",
   "metadata": {},
   "source": [
    "## Observations and Insights\n",
    "\n",
    "### Key Observations\n",
    "1. **Overall Accuracy:**\n",
    "   - Model 1 achieved higher accuracy (74.05%) compared to Model 2 (73.71%).\n",
    "   - Model 1 demonstrated better generalization on the test data, particularly for the Pneumonic class.\n",
    "\n",
    "2. **Class-Wise Performance:**\n",
    "   - Both models struggled with the **Normal** class, as seen from the lower recall and F1-scores.\n",
    "   - Model 1 exhibited a significant gap in recall for the Normal class (4%), indicating a higher false negative rate.\n",
    "\n",
    "3. **Model Complexity:**\n",
    "   - Model 2, being more complex, may have overfitted the training data, leading to lower test accuracy.\n",
    "\n",
    "4. **Class Imbalance:**\n",
    "   - The dataset had more samples for the Pneumonic class (855) than for the Normal class (305). This imbalance likely contributed to the lower performance on the Normal class.\n",
    "\n",
    "---\n"
   ]
  },
  {
   "cell_type": "markdown",
   "metadata": {},
   "source": [
    "## Lessons Learned\n",
    "\n",
    "### Data Preparation\n",
    "- Data augmentation was essential for improving generalization, especially given the limited number of samples.\n",
    "- Class imbalance must be addressed during model training. Techniques like oversampling, undersampling, or class-weight adjustments could improve performance for the minority class.\n",
    "\n",
    "### Model Architecture\n",
    "- Simpler models can outperform more complex architectures when training data is limited.\n",
    "- Batch normalization in Model 2 helped stabilize training but may have introduced overfitting due to insufficient regularization.\n",
    "\n",
    "### Evaluation\n",
    "- Precision, recall, and F1-score provided deeper insights into class-wise performance beyond overall accuracy.\n",
    "- Confusion matrices highlighted the types of errors made by each model, guiding future improvements.\n",
    "\n",
    "---\n"
   ]
  },
  {
   "cell_type": "markdown",
   "metadata": {},
   "source": [
    "## Recommendations for Improvement\n",
    "\n",
    "1. **Address Class Imbalance:**\n",
    "   - Use techniques like SMOTE (Synthetic Minority Over-sampling Technique) or class-weight adjustments during training.\n",
    "\n",
    "2. **Experiment with Pretrained Models:**\n",
    "   - Utilize transfer learning with pretrained architectures like ResNet or EfficientNet for better feature extraction.\n",
    "\n",
    "3. **Hyperparameter Tuning:**\n",
    "   - Explore different learning rates, optimizers, and regularization techniques to improve model performance.\n",
    "\n",
    "4. **Data Augmentation:**\n",
    "   - Expand the augmentation pipeline to include more diverse transformations (e.g., brightness, contrast adjustments).\n",
    "\n",
    "5. **Increase Training Data:**\n",
    "   - Collect additional samples for the Normal class to balance the dataset and reduce bias.\n",
    "\n",
    "---\n"
   ]
  },
  {
   "cell_type": "markdown",
   "metadata": {},
   "source": [
    "## Conclusion\n",
    "\n",
    "This project demonstrated the challenges and opportunities in medical image classification using deep learning. While the models achieved reasonable performance, further improvements can enhance their utility in real-world applications. The project underscored the importance of data quality, model simplicity, and thorough evaluation in achieving reliable results.\n",
    "\n",
    "---\n"
   ]
  }
 ],
 "metadata": {
  "kernelspec": {
   "display_name": "venv",
   "language": "python",
   "name": "python3"
  },
  "language_info": {
   "codemirror_mode": {
    "name": "ipython",
    "version": 3
   },
   "file_extension": ".py",
   "mimetype": "text/x-python",
   "name": "python",
   "nbconvert_exporter": "python",
   "pygments_lexer": "ipython3",
   "version": "3.12.7"
  }
 },
 "nbformat": 4,
 "nbformat_minor": 2
}
